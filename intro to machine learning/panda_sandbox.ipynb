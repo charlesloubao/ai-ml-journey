{
 "cells": [
  {
   "cell_type": "code",
   "execution_count": 47,
   "id": "initial_id",
   "metadata": {
    "collapsed": true,
    "ExecuteTime": {
     "end_time": "2024-05-30T12:54:26.565343Z",
     "start_time": "2024-05-30T12:54:26.547698Z"
    }
   },
   "outputs": [
    {
     "data": {
      "text/plain": "        MaxLeafNodes            MAE\ncount       7.000000       7.000000\nmean    79365.000000  230824.428571\nstd    186383.846738  107712.014777\nmin         0.000000       0.000000\n25%        27.500000  249535.000000\n50%       500.000000  255575.000000\n75%     27500.000000  256873.000000\nmax    500000.000000  347380.000000",
      "text/html": "<div>\n<style scoped>\n    .dataframe tbody tr th:only-of-type {\n        vertical-align: middle;\n    }\n\n    .dataframe tbody tr th {\n        vertical-align: top;\n    }\n\n    .dataframe thead th {\n        text-align: right;\n    }\n</style>\n<table border=\"1\" class=\"dataframe\">\n  <thead>\n    <tr style=\"text-align: right;\">\n      <th></th>\n      <th>MaxLeafNodes</th>\n      <th>MAE</th>\n    </tr>\n  </thead>\n  <tbody>\n    <tr>\n      <th>count</th>\n      <td>7.000000</td>\n      <td>7.000000</td>\n    </tr>\n    <tr>\n      <th>mean</th>\n      <td>79365.000000</td>\n      <td>230824.428571</td>\n    </tr>\n    <tr>\n      <th>std</th>\n      <td>186383.846738</td>\n      <td>107712.014777</td>\n    </tr>\n    <tr>\n      <th>min</th>\n      <td>0.000000</td>\n      <td>0.000000</td>\n    </tr>\n    <tr>\n      <th>25%</th>\n      <td>27.500000</td>\n      <td>249535.000000</td>\n    </tr>\n    <tr>\n      <th>50%</th>\n      <td>500.000000</td>\n      <td>255575.000000</td>\n    </tr>\n    <tr>\n      <th>75%</th>\n      <td>27500.000000</td>\n      <td>256873.000000</td>\n    </tr>\n    <tr>\n      <th>max</th>\n      <td>500000.000000</td>\n      <td>347380.000000</td>\n    </tr>\n  </tbody>\n</table>\n</div>"
     },
     "execution_count": 47,
     "metadata": {},
     "output_type": "execute_result"
    }
   ],
   "source": [
    "import pandas as pd\n",
    "\n",
    "results = pd.DataFrame([[5, 347380], [50, 258171], [500, 243495], [5000, 255575], [50000, 255575], [500000, 255575]],\n",
    "                       columns=['MaxLeafNodes', 'MAE'])\n",
    "\n",
    "results.loc[len(results)] = {'MaxLeafNodes': 0, 'MAE': 0}\n",
    "\n",
    "results.describe()"
   ]
  },
  {
   "cell_type": "code",
   "outputs": [
    {
     "data": {
      "text/plain": "500"
     },
     "execution_count": 26,
     "metadata": {},
     "output_type": "execute_result"
    }
   ],
   "source": [
    "results.loc[results.MAE.idxmin()].MaxLeafNodes"
   ],
   "metadata": {
    "collapsed": false,
    "ExecuteTime": {
     "end_time": "2024-05-30T12:46:49.387742Z",
     "start_time": "2024-05-30T12:46:49.382201Z"
    }
   },
   "id": "3295905b9c5358d0",
   "execution_count": 26
  }
 ],
 "metadata": {
  "kernelspec": {
   "display_name": "Python 3",
   "language": "python",
   "name": "python3"
  },
  "language_info": {
   "codemirror_mode": {
    "name": "ipython",
    "version": 2
   },
   "file_extension": ".py",
   "mimetype": "text/x-python",
   "name": "python",
   "nbconvert_exporter": "python",
   "pygments_lexer": "ipython2",
   "version": "2.7.6"
  }
 },
 "nbformat": 4,
 "nbformat_minor": 5
}
