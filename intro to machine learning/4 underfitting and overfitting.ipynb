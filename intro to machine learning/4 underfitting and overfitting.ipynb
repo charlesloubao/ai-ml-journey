{
 "cells": [
  {
   "cell_type": "code",
   "execution_count": 1,
   "id": "initial_id",
   "metadata": {
    "collapsed": true,
    "ExecuteTime": {
     "end_time": "2024-05-30T15:11:42.980528Z",
     "start_time": "2024-05-30T15:11:41.811615Z"
    }
   },
   "outputs": [],
   "source": [
    "from sklearn.metrics import mean_absolute_error\n",
    "from sklearn.tree import DecisionTreeRegressor\n",
    "from sklearn.model_selection import train_test_split\n",
    "import pandas as pd"
   ]
  },
  {
   "cell_type": "code",
   "outputs": [],
   "source": [
    "# Function to get the Mean Absolute Error for a max_leaf_nodes value\n",
    "def get_mae(max_leaf_nodes, train_X, val_X, train_y, val_y):\n",
    "    model = DecisionTreeRegressor(max_leaf_nodes=max_leaf_nodes, random_state=0)\n",
    "    model.fit(train_X, train_y)\n",
    "    preds_val = model.predict(val_X)\n",
    "    mae = mean_absolute_error(val_y, preds_val)\n",
    "    return(mae)"
   ],
   "metadata": {
    "collapsed": false,
    "ExecuteTime": {
     "end_time": "2024-05-30T15:11:42.986481Z",
     "start_time": "2024-05-30T15:11:42.982537Z"
    }
   },
   "id": "c3a00de552339be2",
   "execution_count": 2
  },
  {
   "cell_type": "code",
   "outputs": [],
   "source": [
    "iowa_file_path = './melb_data.csv'\n",
    "\n",
    "# Load csv file\n",
    "home_data = pd.read_csv(iowa_file_path)\n",
    "\n",
    "# Dropping missing values from the data and returning a new DataFrame\n",
    "melbourn_data = home_data.dropna(axis=0)\n",
    "\n",
    "melbourne_features = ['Rooms', 'Bathroom', 'Landsize', 'BuildingArea', \n",
    "                        'YearBuilt', 'Lattitude', 'Longtitude']\n",
    "# Input data\n",
    "x = melbourn_data[melbourne_features]\n",
    "\n",
    "# Using Price as our prediction\n",
    "y = melbourn_data.Price\n",
    "\n",
    "# Using Price as our prediction\n",
    "y = melbourn_data.Price\n",
    "\n",
    "train_X, val_X, train_y, val_y = train_test_split(x,y, random_state=0, test_size=0.25)"
   ],
   "metadata": {
    "collapsed": false,
    "ExecuteTime": {
     "end_time": "2024-05-30T15:12:38.692142Z",
     "start_time": "2024-05-30T15:12:38.635124Z"
    }
   },
   "id": "14bca7202c5bc3ff",
   "execution_count": 8
  },
  {
   "cell_type": "code",
   "outputs": [
    {
     "name": "stdout",
     "output_type": "stream",
     "text": [
      "Max leaf nodes: 5  \t\t Mean Absolute Error:  347380\n",
      "Max leaf nodes: 50  \t\t Mean Absolute Error:  258171\n",
      "Max leaf nodes: 500  \t\t Mean Absolute Error:  243495\n",
      "Max leaf nodes: 5000  \t\t Mean Absolute Error:  255575\n",
      "Max leaf nodes: 50000  \t\t Mean Absolute Error:  255575\n",
      "Max leaf nodes: 500000  \t\t Mean Absolute Error:  255575\n"
     ]
    }
   ],
   "source": [
    "for max_leaf_nodes in [5, 50, 500, 5000, 50000, 500000]:\n",
    "    my_mae = get_mae(max_leaf_nodes, train_X, val_X, train_y, val_y)\n",
    "    print(\"Max leaf nodes: %d  \\t\\t Mean Absolute Error:  %d\" %(max_leaf_nodes, my_mae))"
   ],
   "metadata": {
    "collapsed": false,
    "ExecuteTime": {
     "end_time": "2024-05-30T15:11:43.252370Z",
     "start_time": "2024-05-30T15:11:43.048782Z"
    }
   },
   "id": "46ea31a92ec3375d",
   "execution_count": 4
  }
 ],
 "metadata": {
  "kernelspec": {
   "display_name": "Python 3",
   "language": "python",
   "name": "python3"
  },
  "language_info": {
   "codemirror_mode": {
    "name": "ipython",
    "version": 2
   },
   "file_extension": ".py",
   "mimetype": "text/x-python",
   "name": "python",
   "nbconvert_exporter": "python",
   "pygments_lexer": "ipython2",
   "version": "2.7.6"
  }
 },
 "nbformat": 4,
 "nbformat_minor": 5
}
