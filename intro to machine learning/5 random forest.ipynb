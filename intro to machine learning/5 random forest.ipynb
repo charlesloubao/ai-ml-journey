{
 "cells": [
  {
   "cell_type": "code",
   "execution_count": 3,
   "id": "initial_id",
   "metadata": {
    "collapsed": true,
    "ExecuteTime": {
     "end_time": "2024-05-30T15:17:13.146356Z",
     "start_time": "2024-05-30T15:17:13.141260Z"
    }
   },
   "outputs": [],
   "source": [
    "from sklearn.ensemble import RandomForestRegressor\n",
    "from sklearn.metrics import mean_absolute_error\n",
    "from sklearn.model_selection import train_test_split\n",
    "import pandas as pd"
   ]
  },
  {
   "cell_type": "code",
   "outputs": [
    {
     "name": "stdout",
     "output_type": "stream",
     "text": [
      "191669.7536453626\n"
     ]
    }
   ],
   "source": [
    "iowa_file_path = './melb_data.csv'\n",
    "\n",
    "# Load csv file\n",
    "home_data = pd.read_csv(iowa_file_path)\n",
    "\n",
    "# Dropping missing values from the data and returning a new DataFrame\n",
    "melbourn_data = home_data.dropna(axis=0)\n",
    "\n",
    "melbourne_features = ['Rooms', 'Bathroom', 'Landsize', 'BuildingArea', \n",
    "                        'YearBuilt', 'Lattitude', 'Longtitude']\n",
    "# Input data\n",
    "x = melbourn_data[melbourne_features]\n",
    "\n",
    "# Using Price as our prediction\n",
    "y = melbourn_data.Price\n",
    "\n",
    "# Using Price as our prediction\n",
    "y = melbourn_data.Price\n",
    "\n",
    "train_X, val_X, train_y, val_y = train_test_split(x,y, random_state=0, test_size=0.25)\n",
    "\n",
    "# Make the model\n",
    "forest_model = RandomForestRegressor(random_state=1)\n",
    "forest_model.fit(train_X, train_y)\n",
    "melb_preds = forest_model.predict(val_X)\n",
    "print(mean_absolute_error(val_y, melb_preds))"
   ],
   "metadata": {
    "collapsed": false,
    "ExecuteTime": {
     "end_time": "2024-05-30T15:17:17.585469Z",
     "start_time": "2024-05-30T15:17:13.157367Z"
    }
   },
   "id": "8318d7de7b955f07",
   "execution_count": 4
  },
  {
   "cell_type": "code",
   "outputs": [],
   "source": [
    "\n"
   ],
   "metadata": {
    "collapsed": false,
    "ExecuteTime": {
     "end_time": "2024-05-30T15:17:17.594206Z",
     "start_time": "2024-05-30T15:17:17.589488Z"
    }
   },
   "id": "151582dccdac1bc5",
   "execution_count": 4
  }
 ],
 "metadata": {
  "kernelspec": {
   "display_name": "Python 3",
   "language": "python",
   "name": "python3"
  },
  "language_info": {
   "codemirror_mode": {
    "name": "ipython",
    "version": 2
   },
   "file_extension": ".py",
   "mimetype": "text/x-python",
   "name": "python",
   "nbconvert_exporter": "python",
   "pygments_lexer": "ipython2",
   "version": "2.7.6"
  }
 },
 "nbformat": 4,
 "nbformat_minor": 5
}
